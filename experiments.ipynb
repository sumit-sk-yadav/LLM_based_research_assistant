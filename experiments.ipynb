{
 "cells": [
  {
   "cell_type": "code",
   "execution_count": 2,
   "id": "e21bd69b",
   "metadata": {},
   "outputs": [],
   "source": [
    "pdf_path = 'data\\\\DVSTUDY_PAPER.pdf'"
   ]
  },
  {
   "cell_type": "code",
   "execution_count": 7,
   "id": "c449e729",
   "metadata": {},
   "outputs": [],
   "source": [
    "from langchain_community.document_loaders import PyPDFLoader\n",
    "from pathlib import Path"
   ]
  },
  {
   "cell_type": "code",
   "execution_count": null,
   "id": "c30f0be7",
   "metadata": {},
   "outputs": [],
   "source": [
    "\n",
    "loader = PyPDFLoader(pdf_path)\n",
    "pages = []\n",
    "async for page in loader.alazy_load():\n",
    "    pages.append(page)"
   ]
  },
  {
   "cell_type": "code",
   "execution_count": null,
   "id": "af42ac78",
   "metadata": {},
   "outputs": [
    {
     "ename": "SyntaxError",
     "evalue": "'async for' outside async function (2899633523.py, line 7)",
     "output_type": "error",
     "traceback": [
      "  \u001b[36mCell\u001b[39m\u001b[36m \u001b[39m\u001b[32mIn[10]\u001b[39m\u001b[32m, line 7\u001b[39m\n\u001b[31m    \u001b[39m\u001b[31masync for page in loader.alazy_load():\u001b[39m\n    ^\n\u001b[31mSyntaxError\u001b[39m\u001b[31m:\u001b[39m 'async for' outside async function\n"
     ]
    }
   ],
   "source": [
    "async def load_all_pdfs(folder_path: str) -> list:\n",
    "    pages = []\n",
    "    pdf_files = Path(folder_path).rglob(\"*.pdf\")\n",
    "    \n",
    "    for pdf_file in pdf_files:\n",
    "        loader = PyPDFLoader(str(pdf_file))\n",
    "        async for page in loader.alazy_load():\n",
    "            pages.append(page)\n",
    "    return pages"
   ]
  },
  {
   "cell_type": "code",
   "execution_count": null,
   "id": "fcc8badb",
   "metadata": {},
   "outputs": [],
   "source": [
    "pages = await load_all_pdfs('data')"
   ]
  }
 ],
 "metadata": {
  "kernelspec": {
   "display_name": "researcher",
   "language": "python",
   "name": "python3"
  },
  "language_info": {
   "codemirror_mode": {
    "name": "ipython",
    "version": 3
   },
   "file_extension": ".py",
   "mimetype": "text/x-python",
   "name": "python",
   "nbconvert_exporter": "python",
   "pygments_lexer": "ipython3",
   "version": "3.12.10"
  }
 },
 "nbformat": 4,
 "nbformat_minor": 5
}
